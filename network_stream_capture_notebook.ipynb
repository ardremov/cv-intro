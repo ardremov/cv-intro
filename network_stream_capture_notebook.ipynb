{
 "cells": [
  {
   "cell_type": "code",
   "execution_count": 1,
   "metadata": {},
   "outputs": [],
   "source": [
    "import cv2\n",
    "import lane_detection\n",
    "import lane_following\n",
    "from matplotlib import pyplot as plt"
   ]
  },
  {
   "cell_type": "code",
   "execution_count": 2,
   "metadata": {},
   "outputs": [],
   "source": [
    "IP_ADDRESS = \"192.168.1.102\""
   ]
  },
  {
   "cell_type": "code",
   "execution_count": 3,
   "metadata": {},
   "outputs": [],
   "source": [
    "vcap = cv2.VideoCapture(f\"rtsp://{IP_ADDRESS}:8554/rovcam\")\n",
    "# img = cv2.imread('frame_from_auv.jpg')"
   ]
  },
  {
   "cell_type": "code",
   "execution_count": 4,
   "metadata": {},
   "outputs": [],
   "source": [
    "MAX_RETRY = 100\n",
    "count = 0\n",
    "while count < MAX_RETRY:\n",
    "    count += 1\n",
    "    # Obtain the frame\n",
    "    ret, frame = vcap.read()\n",
    "\n",
    "    # Check frame was received successfully\n",
    "    if ret:\n",
    "        # got a frame, close the cap and return the frame\n",
    "        print(\" got a frame \")\n",
    "        gray = lane_detection.proccess_img(frame)\n",
    "        lines = lane_detection.detect_lines(gray, 50, 50, 3, 50, 50)\n",
    "        lanes = lane_detection.detect_lanes(lines)\n",
    "        laned_img = lane_detection.draw_lanes(frame, lanes)\n",
    "        plt.imshow(laned_img)\n",
    "        \n",
    "        # img = frame\n",
    "        vcap.release()\n",
    "\n",
    "vcap.release()"
   ]
  }
 ],
 "metadata": {
  "kernelspec": {
   "display_name": "bwsi",
   "language": "python",
   "name": "python3"
  },
  "language_info": {
   "codemirror_mode": {
    "name": "ipython",
    "version": 3
   },
   "file_extension": ".py",
   "mimetype": "text/x-python",
   "name": "python",
   "nbconvert_exporter": "python",
   "pygments_lexer": "ipython3",
   "version": "3.9.2"
  },
  "orig_nbformat": 4
 },
 "nbformat": 4,
 "nbformat_minor": 2
}
