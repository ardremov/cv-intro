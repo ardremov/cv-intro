{
 "cells": [
  {
   "cell_type": "code",
   "execution_count": 5,
   "metadata": {},
   "outputs": [],
   "source": [
    "import lane_detection\n",
    "import lane_following\n",
    "import cv2\n",
    "import numpy as np\n",
    "import matplotlib.pyplot as plt"
   ]
  },
  {
   "cell_type": "code",
   "execution_count": 6,
   "metadata": {},
   "outputs": [],
   "source": [
    "vcap = cv2.VideoCapture(\"AUV_Vid.mkv\")"
   ]
  },
  {
   "cell_type": "code",
   "execution_count": 7,
   "metadata": {},
   "outputs": [],
   "source": [
    "frequency = 300\n",
    "count = 0"
   ]
  },
  {
   "cell_type": "code",
   "execution_count": 8,
   "metadata": {},
   "outputs": [
    {
     "ename": "NameError",
     "evalue": "name 'get_array_x_int' is not defined",
     "output_type": "error",
     "traceback": [
      "\u001b[0;31m---------------------------------------------------------------------------\u001b[0m",
      "\u001b[0;31mNameError\u001b[0m                                 Traceback (most recent call last)",
      "Cell \u001b[0;32mIn[8], line 11\u001b[0m\n\u001b[1;32m      9\u001b[0m c \u001b[39m=\u001b[39m img\u001b[39m.\u001b[39mshape[\u001b[39m0\u001b[39m]\u001b[39m/\u001b[39m\u001b[39m2\u001b[39m\n\u001b[1;32m     10\u001b[0m lines \u001b[39m=\u001b[39m lane_detection\u001b[39m.\u001b[39mdetect_lines(img, threshold1\u001b[39m=\u001b[39m\u001b[39m30\u001b[39m,threshold2\u001b[39m=\u001b[39m\u001b[39m40\u001b[39m, apertureSize\u001b[39m=\u001b[39m\u001b[39m3\u001b[39m,maxLineGap \u001b[39m=\u001b[39m \u001b[39m200\u001b[39m, minLineLength\u001b[39m=\u001b[39m\u001b[39m300\u001b[39m)\n\u001b[0;32m---> 11\u001b[0m lanes \u001b[39m=\u001b[39m lane_detection\u001b[39m.\u001b[39;49mdetect_lanes(lines)\n\u001b[1;32m     12\u001b[0m drawing \u001b[39m=\u001b[39m lane_detection\u001b[39m.\u001b[39mdraw_lanes(img, lanes)\n\u001b[1;32m     13\u001b[0m \u001b[39m#newimg = lane_detection.draw_lines(img, lines)\u001b[39;00m\n",
      "File \u001b[0;32m~/cv-intro/lane_detection.py:119\u001b[0m, in \u001b[0;36mdetect_lanes\u001b[0;34m(lines)\u001b[0m\n\u001b[1;32m    114\u001b[0m \u001b[39m# DONE MERGING LINES\u001b[39;00m\n\u001b[1;32m    115\u001b[0m \u001b[39m#------\u001b[39;00m\n\u001b[1;32m    116\u001b[0m \u001b[39m# DELETE LINES NOT PART OF A LANE\u001b[39;00m\n\u001b[1;32m    118\u001b[0m sorted_lines \u001b[39m=\u001b[39m cleanedLines\n\u001b[0;32m--> 119\u001b[0m sorted_lines\u001b[39m.\u001b[39msort(key\u001b[39m=\u001b[39mget_array_x_int)\n\u001b[1;32m    120\u001b[0m \u001b[39mif\u001b[39;00m \u001b[39mlen\u001b[39m(sorted_lines) \u001b[39m>\u001b[39m \u001b[39m2\u001b[39m:  \n\u001b[1;32m    121\u001b[0m     oneToZero \u001b[39m=\u001b[39m sorted_lines[\u001b[39m1\u001b[39m][\u001b[39m1\u001b[39m] \u001b[39m-\u001b[39m sorted_lines[\u001b[39m0\u001b[39m][\u001b[39m1\u001b[39m]\n",
      "\u001b[0;31mNameError\u001b[0m: name 'get_array_x_int' is not defined"
     ]
    }
   ],
   "source": [
    "while True:\n",
    "    (ret, img) = vcap.read()\n",
    "\n",
    "    if not ret:\n",
    "        break\n",
    "\n",
    "\n",
    "    if count % frequency == 0:\n",
    "        c = img.shape[0]/2\n",
    "        lines = lane_detection.detect_lines(img, threshold1=30,threshold2=40, apertureSize=3,maxLineGap = 200, minLineLength=300)\n",
    "        lanes = lane_detection.detect_lanes(lines)\n",
    "        drawing = lane_detection.draw_lanes(img, lanes)\n",
    "        #newimg = lane_detection.draw_lines(img, lines)\n",
    "\n",
    "\n",
    "        print(lanes)\n",
    "        center = lane_following.get_lane_center(lanes)\n",
    "        cen = lane_following.get_center_line(center[0], center[1],img.shape[0])\n",
    "        print(cen)\n",
    "        plt.imshow(cv2.cvtColor(lane_following.draw_center(img, cen), cv2.COLOR_BGR2RGB))\n",
    "        plt.show()\n",
    "        #print(lane_following.recommend_direction(center[0], center[1], c))\n",
    "\n",
    "    count += 1"
   ]
  }
 ],
 "metadata": {
  "kernelspec": {
   "display_name": "bluecv",
   "language": "python",
   "name": "python3"
  },
  "language_info": {
   "codemirror_mode": {
    "name": "ipython",
    "version": 3
   },
   "file_extension": ".py",
   "mimetype": "text/x-python",
   "name": "python",
   "nbconvert_exporter": "python",
   "pygments_lexer": "ipython3",
   "version": "3.9.2"
  },
  "orig_nbformat": 4
 },
 "nbformat": 4,
 "nbformat_minor": 2
}
