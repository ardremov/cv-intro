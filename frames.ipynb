{
 "cells": [
  {
   "cell_type": "code",
   "execution_count": null,
   "metadata": {},
   "outputs": [],
   "source": [
    "import tags\n",
    "import pid\n",
    "import cv2\n",
    "import numpy as np\n",
    "import matplotlib.pyplot as plt"
   ]
  },
  {
   "cell_type": "code",
   "execution_count": null,
   "metadata": {},
   "outputs": [],
   "source": [
    "vcap = cv2.VideoCapture(\"AprilTagTest.mkv\")"
   ]
  },
  {
   "cell_type": "code",
   "execution_count": null,
   "metadata": {},
   "outputs": [],
   "source": [
    "PIDVertical = pid.PID(0.09,0,0,100)\n",
    "PIDHorizontal = pid.PID(0.05,0,0,100)\n",
    "id_to_track = 0"
   ]
  },
  {
   "cell_type": "code",
   "execution_count": null,
   "metadata": {},
   "outputs": [],
   "source": [
    "frequency = 1\n",
    "maxRetry = 1000\n",
    "count = 0"
   ]
  },
  {
   "cell_type": "code",
   "execution_count": null,
   "metadata": {},
   "outputs": [],
   "source": [
    "out = cv2.VideoWriter('april_tag_render.mp4', cv2.VideoWriter_fourcc(*\"mp4v\"), 20.0, (1920,1080))\n",
    "\n",
    "while count < maxRetry:\n",
    "    ret, img = vcap.read()\n",
    "\n",
    "    if not ret:\n",
    "        break\n",
    "\n",
    "    print(f\"now on frame {count}…\")\n",
    "\n",
    "    if count % frequency == 0:\n",
    "        temp = cv2.cvtColor(img, cv2.COLOR_BGR2GRAY)\n",
    "\n",
    "        apriltags = tags.get_tags(temp)\n",
    "        tag_img = tags.draw_tags(apriltags, img)\n",
    "\n",
    "        centers = tags.get_positions(apriltags)\n",
    "        relative_centers = tags.error_relative_to_center(centers, img.shape[0], img.shape[1])\n",
    "        \n",
    "        powY = 0\n",
    "        powX = 0\n",
    "\n",
    "        for center in relative_centers:\n",
    "            if center[2] == 0:\n",
    "                powY= PIDHorizontal.update(center[0])\n",
    "                powX = PIDVertical.update(center[1])\n",
    "        \n",
    "        print(f\"Vertical Thrusters: {powX}, Horizontal Thrusters: {powY}\")\n",
    "\n",
    "        out.write(tag_img)\n",
    "\n",
    "        # plt.imshow(tag_img)\n",
    "        # plt.show()\n",
    "\n",
    "        # if cv2.waitKey(1) & 0xFF == ord('q'):\n",
    "        #     break\n",
    "\n",
    "    count += 1\n",
    "\n",
    "print(\"Render completed.\")\n",
    "vcap.release()\n",
    "out.release()"
   ]
  },
  {
   "cell_type": "markdown",
   "metadata": {},
   "source": [
    "RELEASE EVERYTHING IF JOB IS DONE"
   ]
  }
 ],
 "metadata": {
  "kernelspec": {
   "display_name": "bluecv",
   "language": "python",
   "name": "python3"
  },
  "language_info": {
   "codemirror_mode": {
    "name": "ipython",
    "version": 3
   },
   "file_extension": ".py",
   "mimetype": "text/x-python",
   "name": "python",
   "nbconvert_exporter": "python",
   "pygments_lexer": "ipython3",
   "version": "3.9.2"
  },
  "orig_nbformat": 4
 },
 "nbformat": 4,
 "nbformat_minor": 2
}
