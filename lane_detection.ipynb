{
 "cells": [
  {
   "cell_type": "code",
   "execution_count": 14,
   "metadata": {},
   "outputs": [],
   "source": [
    "import cv2\n",
    "import numpy as np\n",
    "import math\n",
    "import matplotlib.pyplot as plt\n",
    "from dt_apriltags import Detector\n",
    "import lane_detection"
   ]
  },
  {
   "cell_type": "code",
   "execution_count": 15,
   "metadata": {},
   "outputs": [],
   "source": [
    "img = cv2.imread('lanes.png')"
   ]
  },
  {
   "cell_type": "code",
   "execution_count": 16,
   "metadata": {},
   "outputs": [
    {
     "name": "stdout",
     "output_type": "stream",
     "text": [
      "None\n"
     ]
    }
   ],
   "source": [
    "lines = lane_detection.detect_lines(img, 50, 50, 3, 300, 30)\n",
    "print(lines)"
   ]
  },
  {
   "cell_type": "code",
   "execution_count": 17,
   "metadata": {},
   "outputs": [
    {
     "ename": "TypeError",
     "evalue": "'NoneType' object is not iterable",
     "output_type": "error",
     "traceback": [
      "\u001b[0;31m---------------------------------------------------------------------------\u001b[0m",
      "\u001b[0;31mTypeError\u001b[0m                                 Traceback (most recent call last)",
      "Cell \u001b[0;32mIn[17], line 1\u001b[0m\n\u001b[0;32m----> 1\u001b[0m (slopes, intercepts) \u001b[39m=\u001b[39m lane_detection\u001b[39m.\u001b[39;49mget_slopes_intercepts(lines)\n\u001b[1;32m      2\u001b[0m lined_img \u001b[39m=\u001b[39m (img, lines)\n",
      "File \u001b[0;32m~/cv-intro/lane_detection.py:62\u001b[0m, in \u001b[0;36mget_slopes_intercepts\u001b[0;34m(lines)\u001b[0m\n\u001b[1;32m     60\u001b[0m slopes \u001b[39m=\u001b[39m []\n\u001b[1;32m     61\u001b[0m intercepts \u001b[39m=\u001b[39m []\n\u001b[0;32m---> 62\u001b[0m \u001b[39mfor\u001b[39;00m line \u001b[39min\u001b[39;00m lines:\n\u001b[1;32m     63\u001b[0m     slopes\u001b[39m.\u001b[39mappend(getSlope(line))\n\u001b[1;32m     64\u001b[0m     intercepts\u001b[39m.\u001b[39mappend(getXInt(line))\n",
      "\u001b[0;31mTypeError\u001b[0m: 'NoneType' object is not iterable"
     ]
    }
   ],
   "source": [
    "(slopes, intercepts) = lane_detection.get_slopes_intercepts(lines)\n",
    "lined_img = (img, lines)"
   ]
  },
  {
   "cell_type": "code",
   "execution_count": null,
   "metadata": {},
   "outputs": [],
   "source": [
    "plt.imshow(cv2.cvtColor(img, cv2.COLOR_BGR2RGB))"
   ]
  }
 ],
 "metadata": {
  "kernelspec": {
   "display_name": "bluecv",
   "language": "python",
   "name": "python3"
  },
  "language_info": {
   "codemirror_mode": {
    "name": "ipython",
    "version": 3
   },
   "file_extension": ".py",
   "mimetype": "text/x-python",
   "name": "python",
   "nbconvert_exporter": "python",
   "pygments_lexer": "ipython3",
   "version": "3.9.2"
  },
  "orig_nbformat": 4
 },
 "nbformat": 4,
 "nbformat_minor": 2
}
